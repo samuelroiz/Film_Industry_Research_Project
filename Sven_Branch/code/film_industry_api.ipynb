{
 "cells": [
  {
   "cell_type": "code",
   "execution_count": null,
   "metadata": {},
   "outputs": [],
   "source": [
    "# Dependencies\n",
    "from census import Census\n",
    "# from config import (census_key, gkey, api_key)\n",
    "from config import (tmbd_key)\n",
    "import gmaps\n",
    "import numpy as np\n",
    "import pandas as pd\n",
    "import requests\n",
    "import json\n",
    "import time\n",
    "from scipy.stats import linregress\n",
    "from matplotlib import pyplot as plt\n",
    "import urllib.request\n",
    "import datetime"
   ]
  }
 ],
 "metadata": {
  "interpreter": {
   "hash": "7b6524e1536178ed365774063fd2edbeb21e16077b4dad2678c92aabd952a75f"
  },
  "kernelspec": {
   "display_name": "Python 3.6.10 64-bit ('PythonData': conda)",
   "language": "python",
   "name": "python3"
  },
  "language_info": {
   "name": "python",
   "version": "3.6.10"
  },
  "orig_nbformat": 4
 },
 "nbformat": 4,
 "nbformat_minor": 2
}
