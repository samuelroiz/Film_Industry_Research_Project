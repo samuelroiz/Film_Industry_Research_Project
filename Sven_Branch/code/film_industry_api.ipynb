{
 "cells": [
  {
   "cell_type": "code",
   "execution_count": 3,
   "metadata": {},
   "outputs": [],
   "source": [
    "# Dependencies\n",
    "from census import Census\n",
    "# from config import (census_key, gkey, api_key)\n",
    "from config import (tmbd_key)\n",
    "import gmaps\n",
    "import numpy as np\n",
    "import pandas as pd\n",
    "import requests\n",
    "import json\n",
    "import time\n",
    "from scipy.stats import linregress\n",
    "from matplotlib import pyplot as plt\n",
    "import urllib.request\n",
    "import datetime\n",
    "import tmdbsimple as tmdb"
   ]
  },
  {
   "cell_type": "markdown",
   "metadata": {},
   "source": [
    "# TMBD API "
   ]
  },
  {
   "cell_type": "markdown",
   "metadata": {},
   "source": [
    "#### Link Example"
   ]
  },
  {
   "cell_type": "code",
   "execution_count": 2,
   "metadata": {},
   "outputs": [],
   "source": [
    "tmbd_example = f'https://api.themoviedb.org/3/movie/550?api_key={tmbd_key}'"
   ]
  },
  {
   "cell_type": "markdown",
   "metadata": {},
   "source": [
    "#### tmdbsimple code: https://github.com/celiao/tmdbsimple/"
   ]
  },
  {
   "cell_type": "code",
   "execution_count": 3,
   "metadata": {},
   "outputs": [],
   "source": [
    "tmdb.API_KEY = tmbd_key"
   ]
  },
  {
   "cell_type": "code",
   "execution_count": 4,
   "metadata": {},
   "outputs": [],
   "source": [
    "tmdb.REQUESTS_SESSION = requests.Session()"
   ]
  },
  {
   "cell_type": "code",
   "execution_count": 5,
   "metadata": {},
   "outputs": [],
   "source": [
    "movie = tmdb.Movies(550)\n",
    "response = movie.info()"
   ]
  },
  {
   "cell_type": "code",
   "execution_count": 6,
   "metadata": {},
   "outputs": [
    {
     "data": {
      "text/plain": [
       "'Fight Club'"
      ]
     },
     "execution_count": 6,
     "metadata": {},
     "output_type": "execute_result"
    }
   ],
   "source": [
    "movie.title"
   ]
  },
  {
   "cell_type": "code",
   "execution_count": 7,
   "metadata": {},
   "outputs": [
    {
     "data": {
      "text/plain": [
       "63000000"
      ]
     },
     "execution_count": 7,
     "metadata": {},
     "output_type": "execute_result"
    }
   ],
   "source": [
    "movie.budget"
   ]
  },
  {
   "cell_type": "code",
   "execution_count": 8,
   "metadata": {},
   "outputs": [
    {
     "name": "stdout",
     "output_type": "stream",
     "text": [
      "\n",
      "\n",
      "R\n"
     ]
    }
   ],
   "source": [
    "response = movie.releases()\n",
    "for c in movie.countries:\n",
    "    if c['iso_3166_1'] == 'US':\n",
    "        print(c['certification'])"
   ]
  },
  {
   "cell_type": "code",
   "execution_count": 11,
   "metadata": {},
   "outputs": [
    {
     "name": "stdout",
     "output_type": "stream",
     "text": [
      "The Bourne Legacy 49040 2012-08-08 69.829\n",
      "The Bourne Identity 2501 2002-06-14 43.374\n",
      "The Bourne Ultimatum 2503 2007-08-03 35.013\n",
      "The Bourne Supremacy 2502 2004-07-23 33.762\n",
      "The Bourne Identity 895795  2.295\n",
      "The Bourne Legacy: The Bourne Challenge 876110 2012-12-12 0.6\n",
      "The Bourne Legacy: Bone-Crunching Fights 876107 2012-12-12 0.6\n",
      "The Bourne Legacy: Inside The Crisis Suite 876111 2012-12-12 0.6\n"
     ]
    }
   ],
   "source": [
    "search = tmdb.Search()\n",
    "response = search.movie(query='The Bourne')\n",
    "for s in search.results:\n",
    "    print(s['title'], s['id'], s['release_date'], s['popularity'])"
   ]
  },
  {
   "cell_type": "code",
   "execution_count": 10,
   "metadata": {},
   "outputs": [
    {
     "name": "stdout",
     "output_type": "stream",
     "text": [
      "60000000 119\n",
      "504201\n",
      "75000000 108\n",
      "694444\n",
      "70000000 115\n",
      "608695\n"
     ]
    }
   ],
   "source": [
    "identity = tmdb.Movies(2501)\n",
    "response = identity.info()\n",
    "print(identity.budget, identity.runtime)\n",
    "    # (60000000, 119)\n",
    "print(int(identity.budget/identity.runtime))\n",
    "    # 504201\n",
    "supremacy = tmdb.Movies(2502)\n",
    "response = supremacy.info()\n",
    "print(supremacy.budget, supremacy.runtime)\n",
    "    # (75000000, 108)\n",
    "print(int(supremacy.budget/supremacy.runtime))\n",
    "    # 694444\n",
    "ultimatum = tmdb.Movies(2503)\n",
    "response = ultimatum.info()\n",
    "print(ultimatum.budget, ultimatum.runtime)\n",
    "    # (70000000, 115)\n",
    "print(int(ultimatum.budget/ultimatum.runtime))\n",
    "    # 608695"
   ]
  },
  {
   "cell_type": "code",
   "execution_count": 48,
   "metadata": {},
   "outputs": [
    {
     "data": {
      "text/plain": [
       "463517383"
      ]
     },
     "execution_count": 48,
     "metadata": {},
     "output_type": "execute_result"
    }
   ],
   "source": [
    "response = tmdb.Movies(603).info()\n",
    "response['revenue']"
   ]
  },
  {
   "cell_type": "code",
   "execution_count": 148,
   "metadata": {},
   "outputs": [
    {
     "data": {
      "text/plain": [
       "43.374"
      ]
     },
     "execution_count": 148,
     "metadata": {},
     "output_type": "execute_result"
    }
   ],
   "source": [
    "tmdb.API_KEY = tmbd_key\n",
    "tmdb.REQUESTS_SESSION = requests.Session()\n",
    "\n",
    "response = tmdb.Movies(2501)\n",
    "test = response.info()\n",
    "\n",
    "# response['revenue']\n",
    "response.budget\n",
    "response.revenue\n",
    "response.runtime\n",
    "response.release_date\n",
    "response.imdb_id\n",
    "response.genres\n",
    "response.popularity"
   ]
  },
  {
   "cell_type": "markdown",
   "metadata": {},
   "source": [
    "#### Data from TMBD"
   ]
  },
  {
   "cell_type": "code",
   "execution_count": 155,
   "metadata": {},
   "outputs": [],
   "source": [
    "tmdb.API_KEY = tmbd_key\n",
    "tmdb.REQUESTS_SESSION = requests.Session()\n",
    "\n",
    "numbers = range(1, 1000)\n",
    "\n",
    "# id list\n",
    "tdmb_id_not_found = []\n",
    "tdmb_id = []\n",
    "idmb_id =[]\n",
    "\n",
    "# movie title\n",
    "movie_title = []\n",
    "\n",
    "# movie budget\n",
    "movie_budget = []\n",
    "\n",
    "# movie revenue\n",
    "movie_revenue = []\n",
    "\n",
    "# movie runtime\n",
    "movie_runtime = []\n",
    "\n",
    "# movie release date\n",
    "movie_release_date = []\n",
    "\n",
    "# movie genre\n",
    "movie_genre = []\n",
    "\n",
    "# movie rating's\n",
    "movie_popularity = []\n",
    "movie_vote_average = []\n",
    "\n",
    "for number in numbers:\n",
    "    movie = tmdb.Movies(number)\n",
    "\n",
    "    try:\n",
    "        response = movie.info()\n",
    "        tdmb_id.append(number)\n",
    "        idmb_id.append(movie.imdb_id)\n",
    "\n",
    "        movie_title.append(movie.title)\n",
    "        movie_budget.append(movie.budget)\n",
    "        movie_revenue.append(movie.revenue)\n",
    "        movie_revenue.append(movie.runtime)\n",
    "\n",
    "        movie_release_date.append(movie.release_date)\n",
    "        movie_genre.append(movie.genres)\n",
    "        movie_popularity.append(movie.popularity)\n",
    "\n",
    "        movie_spoken_languages.append(movie.spoken_languages)\n",
    "        \n",
    "\n",
    "        \n",
    "\n",
    "\n",
    "\n",
    "    except:\n",
    "        tdmb_id_not_found.append(number)\n",
    "        tdmb_id.append(f\"NaN\")\n",
    "        idmb_id.append(f\"NaN\")\n",
    "        movie_title.append(f\"NaN\")\n",
    "        movie_budget.append(f\"NaN\")\n",
    "        movie_revenue.append(f\"NaN\")\n",
    "        movie_runtime.append(f\"NaN\")\n",
    "        movie_release_date.append(f\"NaN\")\n",
    "        movie_genre.append(f\"NaN\")\n",
    "        movie_popularity.append(f\"NaN\")\n",
    "        movie_spoken_languages.append(f\"NaN\")\n",
    "\n",
    "\n",
    "\n"
   ]
  },
  {
   "cell_type": "code",
   "execution_count": 17,
   "metadata": {},
   "outputs": [],
   "source": [
    "tmdb.API_KEY = tmbd_key\n",
    "tmdb.REQUESTS_SESSION = requests.Session()\n",
    "\n",
    "numbers = range(1000, 2000)\n",
    "\n",
    "# id list\n",
    "tdmb_id_not_found = []\n",
    "tdmb_id = []\n",
    "idmb_id =[]\n",
    "\n",
    "# movie title\n",
    "movie_title = []\n",
    "\n",
    "# movie budget\n",
    "movie_budget = []\n",
    "\n",
    "# movie revenue\n",
    "movie_revenue = []\n",
    "\n",
    "# movie runtime\n",
    "movie_runtime = []\n",
    "\n",
    "# movie release date\n",
    "movie_release_date = []\n",
    "\n",
    "# movie genre\n",
    "movie_genre = []\n",
    "\n",
    "# movie rating's\n",
    "movie_popularity = []\n",
    "movie_vote_average = []\n",
    "\n",
    "for number in numbers:\n",
    "    movie = tmdb.Movies(number)\n",
    "\n",
    "    try:\n",
    "        response = movie.info()\n",
    "\n",
    "        tdmb_id.append(number)\n",
    "        idmb_id.append(movie.imdb_id)\n",
    "\n",
    "        movie_title.append(movie.title)\n",
    "        movie_budget.append(movie.budget)\n",
    "        movie_revenue.append(movie.revenue)\n",
    "        movie_revenue.append(movie.runtime)\n",
    "\n",
    "        movie_popularity.append(movie.popularity)\n",
    "        movie_vote_average.append(movie.vote_average)\n",
    "        \n",
    "    except:\n",
    "        tdmb_id_not_found.append(number)\n",
    "        tdmb_id.append(f\"NaN\")\n",
    "        idmb_id.append(f\"NaN\")\n",
    "\n",
    "        movie_title.append(f\"NaN\")\n",
    "        movie_budget.append(f\"NaN\")\n",
    "        movie_revenue.append(f\"NaN\")\n",
    "        movie_runtime.append(f\"NaN\")\n",
    "        movie_popularity.append(f\"NaN\")\n",
    "        movie_vote_average.append(f\"NaN\")\n",
    "\n"
   ]
  },
  {
   "cell_type": "code",
   "execution_count": 20,
   "metadata": {},
   "outputs": [],
   "source": [
    "# text file to hold the data\n",
    "test_budget_txt_file = open('test_budget_txt_file.txt', 'w')\n",
    "test_votes_text_file = open('test_votes_text_file.txt', 'w')\n",
    "\n",
    "# cvs file to hold the data\n",
    "test_budget_csv_file = open('test_budget_csv_file.csv', 'w')\n",
    "test_votes_csv_file = open('test_votes_csv_file.csv', 'w')"
   ]
  },
  {
   "cell_type": "code",
   "execution_count": 21,
   "metadata": {},
   "outputs": [],
   "source": [
    "for tdmb, idmb, popularity, vote_average in zip(tdmb_id, idmb_id, movie_popularity, movie_vote_average):\n",
    "    \n",
    "    test_votes_text_file.write(f\"{tdmb}, {idmb}, {popularity}, {vote_average}\\n\")\n",
    "    test_votes_csv_file.write(f\"{tdmb}, {idmb}, {popularity}, {vote_average}\\n\")\n",
    "\n",
    "for tdmb, idmb, title, budget, revenue, run_time in zip(tdmb_id, idmb_id, movie_title, movie_budget, movie_revenue, movie_runtime):\n",
    "\n",
    "    test_budget_csv_file.write(f\"{tdmb}, {idmb}, {title}, {budget}, {revenue}, {run_time}\\n\")\n",
    "    test_budget_txt_file.write(f\"{tdmb}, {idmb}, {title}, {budget}, {revenue}, {run_time}\\n\")\n",
    "\n"
   ]
  },
  {
   "cell_type": "code",
   "execution_count": 19,
   "metadata": {},
   "outputs": [],
   "source": [
    "# text file to hold the data\n",
    "# text file to hold the data\n",
    "test_votes_text_file.close()\n",
    "test_votes_csv_file.close()\n",
    "\n",
    "# cvs file to hold the data\n",
    "test_budget_csv_file.close()\n",
    "test_budget_txt_file.close()"
   ]
  },
  {
   "cell_type": "code",
   "execution_count": null,
   "metadata": {},
   "outputs": [],
   "source": [
    "print(f'{numbers}, {movie_title}, {movie_budget}, {movie_revenue}, {movie_runtime}, {movie_release_date}, {movie_genre}')"
   ]
  },
  {
   "cell_type": "code",
   "execution_count": 153,
   "metadata": {},
   "outputs": [
    {
     "name": "stdout",
     "output_type": "stream",
     "text": [
      "Movie titles: ['NaN', 'Ariel', 'Shadows in Paradise', 'NaN']\n"
     ]
    }
   ],
   "source": [
    "print(f\"Movie titles: {movie_title}\")"
   ]
  },
  {
   "cell_type": "code",
   "execution_count": 154,
   "metadata": {},
   "outputs": [
    {
     "name": "stdout",
     "output_type": "stream",
     "text": [
      "tdmb_id: NaN, idmb_id:NaN, movie title: NaN\n",
      "tdmb_id: 2, idmb_id:tt0094675, movie title: Ariel\n",
      "tdmb_id: 3, idmb_id:tt0092149, movie title: Shadows in Paradise\n",
      "tdmb_id: NaN, idmb_id:NaN, movie title: NaN\n"
     ]
    }
   ],
   "source": [
    "for tdmb, idmb, title in zip(tdmb_id, idmb_id, movie_title):\n",
    "    print(f\"tdmb_id: {tdmb}, idmb_id:{idmb}, movie title: {title}\")"
   ]
  },
  {
   "cell_type": "code",
   "execution_count": null,
   "metadata": {},
   "outputs": [],
   "source": []
  }
 ],
 "metadata": {
  "interpreter": {
   "hash": "7b6524e1536178ed365774063fd2edbeb21e16077b4dad2678c92aabd952a75f"
  },
  "kernelspec": {
   "display_name": "Python 3.6.10 64-bit ('PythonData': conda)",
   "language": "python",
   "name": "python3"
  },
  "language_info": {
   "codemirror_mode": {
    "name": "ipython",
    "version": 3
   },
   "file_extension": ".py",
   "mimetype": "text/x-python",
   "name": "python",
   "nbconvert_exporter": "python",
   "pygments_lexer": "ipython3",
   "version": "3.6.10"
  },
  "orig_nbformat": 4
 },
 "nbformat": 4,
 "nbformat_minor": 2
}
